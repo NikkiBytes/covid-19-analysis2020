{
 "cells": [
  {
   "cell_type": "markdown",
   "metadata": {},
   "source": [
    "# Coronavirus disease 2019, COVID-19  "
   ]
  },
  {
   "cell_type": "code",
   "execution_count": 2,
   "metadata": {},
   "outputs": [
    {
     "data": {
      "text/html": [
       "<img src=\"https://upload.wikimedia.org/wikipedia/commons/thumb/7/76/Novel_Coronavirus_SARS-CoV-2.jpg/600px-Novel_Coronavirus_SARS-CoV-2.jpg\"/>"
      ],
      "text/plain": [
       "<IPython.core.display.Image object>"
      ]
     },
     "execution_count": 2,
     "metadata": {},
     "output_type": "execute_result"
    }
   ],
   "source": [
    "from IPython.display import Image\n",
    "from IPython.core.display import HTML \n",
    "Image(url= \"https://upload.wikimedia.org/wikipedia/commons/thumb/7/76/Novel_Coronavirus_SARS-CoV-2.jpg/600px-Novel_Coronavirus_SARS-CoV-2.jpg\")"
   ]
  },
  {
   "cell_type": "markdown",
   "metadata": {},
   "source": [
    "## Questions  \n",
    "### What is COVID-19? \n",
    "This *infectious disease* is caused by **severe acute respiratory syndrom coronavirus 2 (SARS-CoV-2)**. Classified as a pandemic on March 11th 2020 by the WHO, the first recorded case of this virus infection was in Wuhan, China. *There still is a lot to learn about this novel virus.* While the majority of cases result in mild/recoverable symptoms, some progress to pneumonia and organ failure, and is seen to be more severe in elderly, or adults with underlying health risks such as diabetes, obesity, cardiac issues, etc. \n",
    "  \n",
    "### What are the symptoms?  \n",
    "Most commonly reported symptoms are shortness of breath, fever and a cough, *dry cough being reported more often*. Mucus production, muscle pain and sore throat are less common symptoms to note.  \n",
    "\n",
    "### How does it spread?  \n",
    "Similar to influenza, the virus spreads from one person to others via respiratory droplets. \n",
    "\n",
    "- death rate by age"
   ]
  },
  {
   "cell_type": "code",
   "execution_count": 4,
   "metadata": {},
   "outputs": [],
   "source": [
    "import numpy as np # linear algebra\n",
    "import pandas as pd # data processing, CSV file I/O (e.g. pd.read_csv)\n"
   ]
  },
  {
   "cell_type": "code",
   "execution_count": null,
   "metadata": {},
   "outputs": [],
   "source": [
    "# This Python 3 environment comes with many helpful analytics libraries installed\n",
    "# It is defined by the kaggle/python docker image: https://github.com/kaggle/docker-python\n",
    "# For example, here's several helpful packages to load in \n",
    "\n",
    "# Input data files are available in the \"../input/\" directory.\n",
    "# For example, running this (by clicking run or pressing Shift+Enter) will list all files under the input directory\n",
    "\n",
    "import os\n",
    "for dirname, _, filenames in os.walk('/kaggle/input'):\n",
    "    for filename in filenames:\n",
    "        print(os.path.join(dirname, filename))\n",
    "\n",
    "# Any results you write to the current directory are saved as output.\n",
    "COVID19_line_list_data = pd.read_csv(\"../input/novel-corona-virus-2019-dataset/COVID19_line_list_data.csv\")\n",
    "COVID19_open_line_list = pd.read_csv(\"../input/novel-corona-virus-2019-dataset/COVID19_open_line_list.csv\")\n",
    "covid_19_data = pd.read_csv(\"../input/novel-corona-virus-2019-dataset/covid_19_data.csv\")\n",
    "time_series_covid_19_confirmed = pd.read_csv(\"../input/novel-corona-virus-2019-dataset/time_series_covid_19_confirmed.csv\")\n",
    "time_series_covid_19_deaths = pd.read_csv(\"../input/novel-corona-virus-2019-dataset/time_series_covid_19_deaths.csv\")\n",
    "time_series_covid_19_recovered = pd.read_csv(\"../input/novel-corona-virus-2019-dataset/time_series_covid_19_recovered.csv\")"
   ]
  }
 ],
 "metadata": {
  "kernelspec": {
   "display_name": "Python 3",
   "language": "python",
   "name": "python3"
  },
  "language_info": {
   "codemirror_mode": {
    "name": "ipython",
    "version": 3
   },
   "file_extension": ".py",
   "mimetype": "text/x-python",
   "name": "python",
   "nbconvert_exporter": "python",
   "pygments_lexer": "ipython3",
   "version": "3.7.4"
  },
  "widgets": {
   "application/vnd.jupyter.widget-state+json": {
    "state": {},
    "version_major": 2,
    "version_minor": 0
   }
  }
 },
 "nbformat": 4,
 "nbformat_minor": 4
}
